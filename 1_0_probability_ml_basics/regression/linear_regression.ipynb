{
 "cells": [
  {
   "cell_type": "code",
   "execution_count": 12,
   "metadata": {
    "collapsed": false
   },
   "outputs": [
    {
     "ename": "UnicodeDecodeError",
     "evalue": "'ascii' codec can't decode byte 0xc2 in position 1: ordinal not in range(128)",
     "output_type": "error",
     "traceback": [
      "\u001b[0;31m---------------------------------------------------------------------------\u001b[0m",
      "\u001b[0;31mUnicodeDecodeError\u001b[0m                        Traceback (most recent call last)",
      "\u001b[0;32m<ipython-input-12-ba1c1e8796a6>\u001b[0m in \u001b[0;36m<module>\u001b[0;34m()\u001b[0m\n\u001b[1;32m     17\u001b[0m \u001b[0;31m# data_generator = data.DataGenerator()\u001b[0m\u001b[0;34m\u001b[0m\u001b[0;34m\u001b[0m\u001b[0m\n\u001b[1;32m     18\u001b[0m \u001b[0mdata_saver\u001b[0m \u001b[0;34m=\u001b[0m \u001b[0msaver\u001b[0m\u001b[0;34m.\u001b[0m\u001b[0mDataSaver\u001b[0m\u001b[0;34m(\u001b[0m\u001b[0;34m'data'\u001b[0m\u001b[0;34m,\u001b[0m \u001b[0;34m'data_samples.pkl'\u001b[0m\u001b[0;34m)\u001b[0m\u001b[0;34m\u001b[0m\u001b[0m\n\u001b[0;32m---> 19\u001b[0;31m \u001b[0minput_data\u001b[0m\u001b[0;34m,\u001b[0m \u001b[0moutput_data\u001b[0m \u001b[0;34m=\u001b[0m \u001b[0mdata_saver\u001b[0m\u001b[0;34m.\u001b[0m\u001b[0mrestore_from_file\u001b[0m\u001b[0;34m(\u001b[0m\u001b[0;34m)\u001b[0m\u001b[0;34m\u001b[0m\u001b[0m\n\u001b[0m\u001b[1;32m     20\u001b[0m \u001b[0mn_samples\u001b[0m \u001b[0;34m=\u001b[0m \u001b[0minput_data\u001b[0m\u001b[0;34m.\u001b[0m\u001b[0mshape\u001b[0m\u001b[0;34m[\u001b[0m\u001b[0;36m0\u001b[0m\u001b[0;34m]\u001b[0m\u001b[0;34m\u001b[0m\u001b[0m\n\u001b[1;32m     21\u001b[0m \u001b[0;32mif\u001b[0m\u001b[0;34m(\u001b[0m\u001b[0mshow_plots\u001b[0m\u001b[0;34m)\u001b[0m\u001b[0;34m:\u001b[0m\u001b[0;34m\u001b[0m\u001b[0m\n",
      "\u001b[0;32m/Users/luke/Documents/Programming/ai_for_robotics/1_0_probability_ml_basics/regression/DataSaver.py\u001b[0m in \u001b[0;36mrestore_from_file\u001b[0;34m(self)\u001b[0m\n\u001b[1;32m     23\u001b[0m \u001b[0;34m\u001b[0m\u001b[0m\n\u001b[1;32m     24\u001b[0m     \u001b[0;32mdef\u001b[0m \u001b[0mrestore_from_file\u001b[0m\u001b[0;34m(\u001b[0m\u001b[0mself\u001b[0m\u001b[0;34m)\u001b[0m\u001b[0;34m:\u001b[0m\u001b[0;34m\u001b[0m\u001b[0m\n\u001b[0;32m---> 25\u001b[0;31m         \u001b[0mdata\u001b[0m \u001b[0;34m=\u001b[0m \u001b[0mpkl\u001b[0m\u001b[0;34m.\u001b[0m\u001b[0mload\u001b[0m\u001b[0;34m(\u001b[0m\u001b[0mopen\u001b[0m\u001b[0;34m(\u001b[0m\u001b[0mself\u001b[0m\u001b[0;34m.\u001b[0m\u001b[0mpath\u001b[0m\u001b[0;34m,\u001b[0m \u001b[0;34m'rb'\u001b[0m\u001b[0;34m)\u001b[0m\u001b[0;34m,\u001b[0m\u001b[0mencoding\u001b[0m\u001b[0;34m=\u001b[0m\u001b[0;34m\"Latin1\"\u001b[0m\u001b[0;34m)\u001b[0m\u001b[0;34m\u001b[0m\u001b[0m\n\u001b[0m\u001b[1;32m     26\u001b[0m         \u001b[0;31m# TODO adapt the following two lines, such that it works for the 4dimensional input\u001b[0m\u001b[0;34m\u001b[0m\u001b[0;34m\u001b[0m\u001b[0m\n\u001b[1;32m     27\u001b[0m         \u001b[0minput_data\u001b[0m \u001b[0;34m=\u001b[0m \u001b[0mdata\u001b[0m\u001b[0;34m[\u001b[0m\u001b[0;34m:\u001b[0m\u001b[0;34m,\u001b[0m \u001b[0;36m0\u001b[0m\u001b[0;34m:\u001b[0m\u001b[0;36m2\u001b[0m\u001b[0;34m]\u001b[0m\u001b[0;34m\u001b[0m\u001b[0m\n",
      "\u001b[0;31mUnicodeDecodeError\u001b[0m: 'ascii' codec can't decode byte 0xc2 in position 1: ordinal not in range(128)"
     ]
    }
   ],
   "source": [
    "import Features as features\n",
    "import LinearRegressionModel as model\n",
    "import DataSaver as saver\n",
    "import matplotlib.pyplot as plt\n",
    "import pickle as pkl\n",
    "\n",
    "# Remove lapack warning on OSX (https://github.com/scipy/scipy/issues/5998).\n",
    "import warnings\n",
    "warnings.filterwarnings(action=\"ignore\", module=\"scipy\",\n",
    "                        message=\"^internal gelsd\")\n",
    "\n",
    "plt.close('all')\n",
    "\n",
    "# TODO decide if you want to show the plots to compare input and output data\n",
    "show_plots = False\n",
    "\n",
    "# data_generator = data.DataGenerator()\n",
    "data_saver = saver.DataSaver('data', 'data_samples.pkl')\n",
    "input_data, output_data = data_saver.restore_from_file()\n",
    "n_samples = input_data.shape[0]\n",
    "if(show_plots):\n",
    "    plt.figure(0)\n",
    "    plt.scatter(input_data[:, 0], output_data[:, 0])\n",
    "    plt.xlabel(\"x1\")\n",
    "    plt.ylabel(\"y\")\n",
    "    plt.figure(1)\n",
    "    plt.scatter(input_data[:, 1], output_data[:, 0])\n",
    "    plt.xlabel(\"x2\")\n",
    "    plt.ylabel(\"y\")\n",
    "    if (input_data.shape[1] > 2):\n",
    "        plt.figure(2)\n",
    "        plt.scatter(input_data[:, 2], output_data[:, 0])\n",
    "        plt.xlabel(\"x3\")\n",
    "        plt.ylabel(\"y\")\n",
    "        plt.figure(3)\n",
    "        plt.scatter(input_data[:, 3], output_data[:, 0])\n",
    "        plt.xlabel(\"x4\")\n",
    "        plt.ylabel(\"y\")\n",
    "\n",
    "\n",
    "# Split data into training and validation\n",
    "# TODO Overcome the problem of differently biased data\n",
    "ratio_train_validate = 0.8\n",
    "idx_switch = int(n_samples * ratio_train_validate)\n",
    "training_input = input_data[:idx_switch, :]\n",
    "training_output = output_data[:idx_switch, :]\n",
    "validation_input = input_data[idx_switch:, :]\n",
    "validation_output = output_data[idx_switch:, :]\n",
    "\n",
    "# Fit model\n",
    "lm = model.LinearRegressionModel()\n",
    "# TODO use and select the new features\n",
    "lm.set_feature_vector([features.LinearX1(), features.LinearX2(),\n",
    "                       features.SquareX1(), features.ExpX2(),\n",
    "                       features.LogX1(), features.Identity()])\n",
    "lm.fit(training_input, training_output)\n",
    "\n",
    "\n",
    "# Validation\n",
    "mse = lm.validate(validation_input, validation_output)\n",
    "print('MSE: {}'.format(mse))\n",
    "print(' ')\n",
    "print('feature weights \\n{}'.format(lm.beta))\n",
    "\n",
    "# load submission data\n",
    "submission_loader = saver.DataSaver('data', 'submission_data.pkl')\n",
    "submission_input = submission_loader.load_submission()\n",
    "\n",
    "# predict output\n",
    "submission_output = lm.predict(submission_input)\n",
    "\n",
    "#save output\n",
    "pkl.dump(submission_output, open(\"results.pkl\", 'wb'))\n",
    "\n",
    "plt.show()\n",
    "\n"
   ]
  },
  {
   "cell_type": "code",
   "execution_count": null,
   "metadata": {
    "collapsed": true
   },
   "outputs": [],
   "source": []
  }
 ],
 "metadata": {
  "kernelspec": {
   "display_name": "Python 3",
   "language": "python",
   "name": "python3"
  },
  "language_info": {
   "codemirror_mode": {
    "name": "ipython",
    "version": 3
   },
   "file_extension": ".py",
   "mimetype": "text/x-python",
   "name": "python",
   "nbconvert_exporter": "python",
   "pygments_lexer": "ipython3",
   "version": "3.5.1"
  }
 },
 "nbformat": 4,
 "nbformat_minor": 2
}
